{
 "cells": [
  {
   "cell_type": "code",
   "execution_count": 93,
   "metadata": {
    "collapsed": true
   },
   "outputs": [],
   "source": [
    "import numpy as np\n",
    "import pandas as pd\n",
    "import math\n",
    "import matplotlib.pyplot as plt\n",
    "%matplotlib inline\n",
    "import random"
   ]
  },
  {
   "cell_type": "code",
   "execution_count": 69,
   "metadata": {
    "collapsed": false
   },
   "outputs": [],
   "source": [
    "data = pd.read_csv('660_dataset.csv')"
   ]
  },
  {
   "cell_type": "code",
   "execution_count": 70,
   "metadata": {
    "collapsed": true
   },
   "outputs": [],
   "source": [
    "data =data[['brand', 'name', 'exterior', 'trans', 'engine', 'moto_type',\n",
    "       'zipcode', 'certified', 'year', 'mileage', 'photos', 'videos', 'doors',\n",
    "       'price']]"
   ]
  },
  {
   "cell_type": "code",
   "execution_count": 71,
   "metadata": {
    "collapsed": false
   },
   "outputs": [
    {
     "data": {
      "text/html": [
       "<div>\n",
       "<table border=\"1\" class=\"dataframe\">\n",
       "  <thead>\n",
       "    <tr style=\"text-align: right;\">\n",
       "      <th></th>\n",
       "      <th>brand</th>\n",
       "      <th>name</th>\n",
       "      <th>exterior</th>\n",
       "      <th>trans</th>\n",
       "      <th>engine</th>\n",
       "      <th>moto_type</th>\n",
       "      <th>zipcode</th>\n",
       "      <th>certified</th>\n",
       "      <th>year</th>\n",
       "      <th>mileage</th>\n",
       "      <th>photos</th>\n",
       "      <th>videos</th>\n",
       "      <th>doors</th>\n",
       "      <th>price</th>\n",
       "    </tr>\n",
       "  </thead>\n",
       "  <tbody>\n",
       "    <tr>\n",
       "      <th>0</th>\n",
       "      <td>Nissan</td>\n",
       "      <td>Maxima</td>\n",
       "      <td>Others</td>\n",
       "      <td>Continuously Variable Automatic</td>\n",
       "      <td>6 Cylinder</td>\n",
       "      <td>sedan</td>\n",
       "      <td>2115</td>\n",
       "      <td>0</td>\n",
       "      <td>7</td>\n",
       "      <td>69406.0</td>\n",
       "      <td>39</td>\n",
       "      <td>1</td>\n",
       "      <td>4.0</td>\n",
       "      <td>11995.0</td>\n",
       "    </tr>\n",
       "    <tr>\n",
       "      <th>1</th>\n",
       "      <td>BMW</td>\n",
       "      <td>335i</td>\n",
       "      <td>Black</td>\n",
       "      <td>8 Speed Automatic</td>\n",
       "      <td>6 Cylinder Turbo</td>\n",
       "      <td>sedan</td>\n",
       "      <td>2115</td>\n",
       "      <td>0</td>\n",
       "      <td>3</td>\n",
       "      <td>25755.0</td>\n",
       "      <td>44</td>\n",
       "      <td>1</td>\n",
       "      <td>4.0</td>\n",
       "      <td>29995.0</td>\n",
       "    </tr>\n",
       "    <tr>\n",
       "      <th>2</th>\n",
       "      <td>BMW</td>\n",
       "      <td>528i</td>\n",
       "      <td>Others</td>\n",
       "      <td>8 Speed Shiftable Automatic</td>\n",
       "      <td>4 Cylinder Turbo</td>\n",
       "      <td>sedan</td>\n",
       "      <td>2115</td>\n",
       "      <td>0</td>\n",
       "      <td>3</td>\n",
       "      <td>13751.0</td>\n",
       "      <td>50</td>\n",
       "      <td>1</td>\n",
       "      <td>4.0</td>\n",
       "      <td>29995.0</td>\n",
       "    </tr>\n",
       "    <tr>\n",
       "      <th>3</th>\n",
       "      <td>INFINITI</td>\n",
       "      <td>Q50</td>\n",
       "      <td>White</td>\n",
       "      <td>7 Speed Shiftable Automatic</td>\n",
       "      <td>6 Cylinder</td>\n",
       "      <td>sedan</td>\n",
       "      <td>2115</td>\n",
       "      <td>1</td>\n",
       "      <td>2</td>\n",
       "      <td>13251.0</td>\n",
       "      <td>26</td>\n",
       "      <td>1</td>\n",
       "      <td>4.0</td>\n",
       "      <td>32990.0</td>\n",
       "    </tr>\n",
       "    <tr>\n",
       "      <th>4</th>\n",
       "      <td>Audi</td>\n",
       "      <td>A6</td>\n",
       "      <td>Silver</td>\n",
       "      <td>8 Speed Shiftable Automatic</td>\n",
       "      <td>6 Cylinder Supercharg</td>\n",
       "      <td>sedan</td>\n",
       "      <td>2115</td>\n",
       "      <td>0</td>\n",
       "      <td>3</td>\n",
       "      <td>27593.0</td>\n",
       "      <td>57</td>\n",
       "      <td>1</td>\n",
       "      <td>4.0</td>\n",
       "      <td>33995.0</td>\n",
       "    </tr>\n",
       "  </tbody>\n",
       "</table>\n",
       "</div>"
      ],
      "text/plain": [
       "      brand    name exterior                            trans  \\\n",
       "0    Nissan  Maxima   Others  Continuously Variable Automatic   \n",
       "1       BMW    335i    Black                8 Speed Automatic   \n",
       "2       BMW    528i   Others      8 Speed Shiftable Automatic   \n",
       "3  INFINITI     Q50    White      7 Speed Shiftable Automatic   \n",
       "4      Audi      A6   Silver      8 Speed Shiftable Automatic   \n",
       "\n",
       "                  engine moto_type  zipcode  certified  year  mileage  photos  \\\n",
       "0             6 Cylinder     sedan     2115          0     7  69406.0      39   \n",
       "1       6 Cylinder Turbo     sedan     2115          0     3  25755.0      44   \n",
       "2       4 Cylinder Turbo     sedan     2115          0     3  13751.0      50   \n",
       "3             6 Cylinder     sedan     2115          1     2  13251.0      26   \n",
       "4  6 Cylinder Supercharg     sedan     2115          0     3  27593.0      57   \n",
       "\n",
       "   videos  doors    price  \n",
       "0       1    4.0  11995.0  \n",
       "1       1    4.0  29995.0  \n",
       "2       1    4.0  29995.0  \n",
       "3       1    4.0  32990.0  \n",
       "4       1    4.0  33995.0  "
      ]
     },
     "execution_count": 71,
     "metadata": {},
     "output_type": "execute_result"
    }
   ],
   "source": [
    "data.head(5)"
   ]
  },
  {
   "cell_type": "code",
   "execution_count": 72,
   "metadata": {
    "collapsed": false
   },
   "outputs": [
    {
     "name": "stdout",
     "output_type": "stream",
     "text": [
      "(1442, 14)\n",
      "(164145, 14)\n",
      "(58,)\n"
     ]
    }
   ],
   "source": [
    "print(data[data['price']>=100000].shape)\n",
    "print(data[data['price']<100000].shape)\n",
    "print(data.brand.value_counts().shape)"
   ]
  },
  {
   "cell_type": "code",
   "execution_count": 73,
   "metadata": {
    "collapsed": false
   },
   "outputs": [],
   "source": [
    "#drop cars which price over 100,000\n",
    "data = data[data.price < 100000]"
   ]
  },
  {
   "cell_type": "code",
   "execution_count": 74,
   "metadata": {
    "collapsed": false
   },
   "outputs": [],
   "source": [
    "price_min=min(data['price'])\n",
    "price_max=max(data['price'])\n"
   ]
  },
  {
   "cell_type": "code",
   "execution_count": 75,
   "metadata": {
    "collapsed": false
   },
   "outputs": [],
   "source": [
    "#data.price = data.price.map(lambda x: (x - price_min) / (price_max - price_min))"
   ]
  },
  {
   "cell_type": "code",
   "execution_count": 76,
   "metadata": {
    "collapsed": false
   },
   "outputs": [
    {
     "data": {
      "text/plain": [
       "0    11995.0\n",
       "1    29995.0\n",
       "2    29995.0\n",
       "3    32990.0\n",
       "4    33995.0\n",
       "Name: price, dtype: float64"
      ]
     },
     "execution_count": 76,
     "metadata": {},
     "output_type": "execute_result"
    }
   ],
   "source": [
    "data.price.head(5)"
   ]
  },
  {
   "cell_type": "code",
   "execution_count": 77,
   "metadata": {
    "collapsed": true
   },
   "outputs": [],
   "source": [
    "mileage_min=min(data.mileage)\n",
    "mileage_max=max(data.mileage)"
   ]
  },
  {
   "cell_type": "code",
   "execution_count": 78,
   "metadata": {
    "collapsed": true
   },
   "outputs": [],
   "source": [
    "data.mileage = data.mileage.map(lambda x: (x-mileage_min)/(mileage_max -mileage_min))"
   ]
  },
  {
   "cell_type": "code",
   "execution_count": 79,
   "metadata": {
    "collapsed": false
   },
   "outputs": [
    {
     "data": {
      "text/html": [
       "<div>\n",
       "<table border=\"1\" class=\"dataframe\">\n",
       "  <thead>\n",
       "    <tr style=\"text-align: right;\">\n",
       "      <th></th>\n",
       "      <th>brand</th>\n",
       "      <th>name</th>\n",
       "      <th>exterior</th>\n",
       "      <th>trans</th>\n",
       "      <th>engine</th>\n",
       "      <th>moto_type</th>\n",
       "      <th>zipcode</th>\n",
       "      <th>certified</th>\n",
       "      <th>year</th>\n",
       "      <th>mileage</th>\n",
       "      <th>photos</th>\n",
       "      <th>videos</th>\n",
       "      <th>doors</th>\n",
       "      <th>price</th>\n",
       "    </tr>\n",
       "  </thead>\n",
       "  <tbody>\n",
       "    <tr>\n",
       "      <th>0</th>\n",
       "      <td>Nissan</td>\n",
       "      <td>Maxima</td>\n",
       "      <td>Others</td>\n",
       "      <td>Continuously Variable Automatic</td>\n",
       "      <td>6 Cylinder</td>\n",
       "      <td>sedan</td>\n",
       "      <td>2115</td>\n",
       "      <td>0</td>\n",
       "      <td>7</td>\n",
       "      <td>0.078780</td>\n",
       "      <td>39</td>\n",
       "      <td>1</td>\n",
       "      <td>4.0</td>\n",
       "      <td>11995.0</td>\n",
       "    </tr>\n",
       "    <tr>\n",
       "      <th>1</th>\n",
       "      <td>BMW</td>\n",
       "      <td>335i</td>\n",
       "      <td>Black</td>\n",
       "      <td>8 Speed Automatic</td>\n",
       "      <td>6 Cylinder Turbo</td>\n",
       "      <td>sedan</td>\n",
       "      <td>2115</td>\n",
       "      <td>0</td>\n",
       "      <td>3</td>\n",
       "      <td>0.029233</td>\n",
       "      <td>44</td>\n",
       "      <td>1</td>\n",
       "      <td>4.0</td>\n",
       "      <td>29995.0</td>\n",
       "    </tr>\n",
       "    <tr>\n",
       "      <th>2</th>\n",
       "      <td>BMW</td>\n",
       "      <td>528i</td>\n",
       "      <td>Others</td>\n",
       "      <td>8 Speed Shiftable Automatic</td>\n",
       "      <td>4 Cylinder Turbo</td>\n",
       "      <td>sedan</td>\n",
       "      <td>2115</td>\n",
       "      <td>0</td>\n",
       "      <td>3</td>\n",
       "      <td>0.015607</td>\n",
       "      <td>50</td>\n",
       "      <td>1</td>\n",
       "      <td>4.0</td>\n",
       "      <td>29995.0</td>\n",
       "    </tr>\n",
       "    <tr>\n",
       "      <th>3</th>\n",
       "      <td>INFINITI</td>\n",
       "      <td>Q50</td>\n",
       "      <td>White</td>\n",
       "      <td>7 Speed Shiftable Automatic</td>\n",
       "      <td>6 Cylinder</td>\n",
       "      <td>sedan</td>\n",
       "      <td>2115</td>\n",
       "      <td>1</td>\n",
       "      <td>2</td>\n",
       "      <td>0.015040</td>\n",
       "      <td>26</td>\n",
       "      <td>1</td>\n",
       "      <td>4.0</td>\n",
       "      <td>32990.0</td>\n",
       "    </tr>\n",
       "    <tr>\n",
       "      <th>4</th>\n",
       "      <td>Audi</td>\n",
       "      <td>A6</td>\n",
       "      <td>Silver</td>\n",
       "      <td>8 Speed Shiftable Automatic</td>\n",
       "      <td>6 Cylinder Supercharg</td>\n",
       "      <td>sedan</td>\n",
       "      <td>2115</td>\n",
       "      <td>0</td>\n",
       "      <td>3</td>\n",
       "      <td>0.031319</td>\n",
       "      <td>57</td>\n",
       "      <td>1</td>\n",
       "      <td>4.0</td>\n",
       "      <td>33995.0</td>\n",
       "    </tr>\n",
       "  </tbody>\n",
       "</table>\n",
       "</div>"
      ],
      "text/plain": [
       "      brand    name exterior                            trans  \\\n",
       "0    Nissan  Maxima   Others  Continuously Variable Automatic   \n",
       "1       BMW    335i    Black                8 Speed Automatic   \n",
       "2       BMW    528i   Others      8 Speed Shiftable Automatic   \n",
       "3  INFINITI     Q50    White      7 Speed Shiftable Automatic   \n",
       "4      Audi      A6   Silver      8 Speed Shiftable Automatic   \n",
       "\n",
       "                  engine moto_type  zipcode  certified  year   mileage  \\\n",
       "0             6 Cylinder     sedan     2115          0     7  0.078780   \n",
       "1       6 Cylinder Turbo     sedan     2115          0     3  0.029233   \n",
       "2       4 Cylinder Turbo     sedan     2115          0     3  0.015607   \n",
       "3             6 Cylinder     sedan     2115          1     2  0.015040   \n",
       "4  6 Cylinder Supercharg     sedan     2115          0     3  0.031319   \n",
       "\n",
       "   photos  videos  doors    price  \n",
       "0      39       1    4.0  11995.0  \n",
       "1      44       1    4.0  29995.0  \n",
       "2      50       1    4.0  29995.0  \n",
       "3      26       1    4.0  32990.0  \n",
       "4      57       1    4.0  33995.0  "
      ]
     },
     "execution_count": 79,
     "metadata": {},
     "output_type": "execute_result"
    }
   ],
   "source": [
    "data.head(5)"
   ]
  },
  {
   "cell_type": "code",
   "execution_count": 80,
   "metadata": {
    "collapsed": false
   },
   "outputs": [
    {
     "data": {
      "text/plain": [
       "(57,)"
      ]
     },
     "execution_count": 80,
     "metadata": {},
     "output_type": "execute_result"
    }
   ],
   "source": [
    "data.brand.value_counts().shape\n",
    "#did no harm to brand"
   ]
  },
  {
   "cell_type": "code",
   "execution_count": 81,
   "metadata": {
    "collapsed": false
   },
   "outputs": [
    {
     "data": {
      "image/png": "[encoded data removed]",
      "text/plain": [
       "<matplotlib.figure.Figure at 0x1aa7cc06cc0>"
      ]
     },
     "metadata": {},
     "output_type": "display_data"
    }
   ],
   "source": [
    "n, bins, patches = plt.hist(data.price.values, 100, normed=1, facecolor='green')\n",
    "plt.grid(False)\n",
    "plt.show()"
   ]
  },
  {
   "cell_type": "code",
   "execution_count": 82,
   "metadata": {
    "collapsed": false
   },
   "outputs": [],
   "source": [
    "# we can see from the plot, most of the cars are around 20000"
   ]
  },
  {
   "cell_type": "code",
   "execution_count": 83,
   "metadata": {
    "collapsed": true
   },
   "outputs": [],
   "source": [
    "#then we deal with catagorical data by using LabelEncode"
   ]
  },
  {
   "cell_type": "code",
   "execution_count": 84,
   "metadata": {
    "collapsed": true
   },
   "outputs": [],
   "source": [
    "from sklearn.preprocessing import LabelEncoder\n",
    "le = LabelEncoder()"
   ]
  },
  {
   "cell_type": "code",
   "execution_count": 85,
   "metadata": {
    "collapsed": true
   },
   "outputs": [],
   "source": [
    "y=data.price\n",
    "X=data.drop(['price'], axis = 1)"
   ]
  },
  {
   "cell_type": "code",
   "execution_count": 86,
   "metadata": {
    "collapsed": false
   },
   "outputs": [
    {
     "name": "stderr",
     "output_type": "stream",
     "text": [
      "C:\\Users\\10\\Anaconda3\\lib\\site-packages\\sklearn\\preprocessing\\label.py:112: DataConversionWarning: A column-vector y was passed when a 1d array was expected. Please change the shape of y to (n_samples, ), for example using ravel().\n",
      "  y = column_or_1d(y, warn=True)\n",
      "C:\\Users\\10\\Anaconda3\\lib\\site-packages\\sklearn\\preprocessing\\label.py:147: DataConversionWarning: A column-vector y was passed when a 1d array was expected. Please change the shape of y to (n_samples, ), for example using ravel().\n",
      "  y = column_or_1d(y, warn=True)\n"
     ]
    },
    {
     "data": {
      "text/html": [
       "<div>\n",
       "<table border=\"1\" class=\"dataframe\">\n",
       "  <thead>\n",
       "    <tr style=\"text-align: right;\">\n",
       "      <th></th>\n",
       "      <th>brand</th>\n",
       "      <th>name</th>\n",
       "      <th>exterior</th>\n",
       "      <th>trans</th>\n",
       "      <th>engine</th>\n",
       "      <th>moto_type</th>\n",
       "      <th>zipcode</th>\n",
       "      <th>certified</th>\n",
       "      <th>year</th>\n",
       "      <th>mileage</th>\n",
       "      <th>photos</th>\n",
       "      <th>videos</th>\n",
       "      <th>doors</th>\n",
       "    </tr>\n",
       "  </thead>\n",
       "  <tbody>\n",
       "    <tr>\n",
       "      <th>0</th>\n",
       "      <td>39</td>\n",
       "      <td>481</td>\n",
       "      <td>14</td>\n",
       "      <td>24</td>\n",
       "      <td>9</td>\n",
       "      <td>3</td>\n",
       "      <td>0</td>\n",
       "      <td>0</td>\n",
       "      <td>7</td>\n",
       "      <td>0.078780</td>\n",
       "      <td>39</td>\n",
       "      <td>1</td>\n",
       "      <td>4.0</td>\n",
       "    </tr>\n",
       "    <tr>\n",
       "      <th>1</th>\n",
       "      <td>4</td>\n",
       "      <td>44</td>\n",
       "      <td>1</td>\n",
       "      <td>20</td>\n",
       "      <td>11</td>\n",
       "      <td>3</td>\n",
       "      <td>0</td>\n",
       "      <td>0</td>\n",
       "      <td>3</td>\n",
       "      <td>0.029233</td>\n",
       "      <td>44</td>\n",
       "      <td>1</td>\n",
       "      <td>4.0</td>\n",
       "    </tr>\n",
       "    <tr>\n",
       "      <th>2</th>\n",
       "      <td>4</td>\n",
       "      <td>68</td>\n",
       "      <td>14</td>\n",
       "      <td>21</td>\n",
       "      <td>6</td>\n",
       "      <td>3</td>\n",
       "      <td>0</td>\n",
       "      <td>0</td>\n",
       "      <td>3</td>\n",
       "      <td>0.015607</td>\n",
       "      <td>50</td>\n",
       "      <td>1</td>\n",
       "      <td>4.0</td>\n",
       "    </tr>\n",
       "    <tr>\n",
       "      <th>3</th>\n",
       "      <td>23</td>\n",
       "      <td>534</td>\n",
       "      <td>18</td>\n",
       "      <td>19</td>\n",
       "      <td>9</td>\n",
       "      <td>3</td>\n",
       "      <td>0</td>\n",
       "      <td>1</td>\n",
       "      <td>2</td>\n",
       "      <td>0.015040</td>\n",
       "      <td>26</td>\n",
       "      <td>1</td>\n",
       "      <td>4.0</td>\n",
       "    </tr>\n",
       "    <tr>\n",
       "      <th>4</th>\n",
       "      <td>3</td>\n",
       "      <td>118</td>\n",
       "      <td>16</td>\n",
       "      <td>21</td>\n",
       "      <td>10</td>\n",
       "      <td>3</td>\n",
       "      <td>0</td>\n",
       "      <td>0</td>\n",
       "      <td>3</td>\n",
       "      <td>0.031319</td>\n",
       "      <td>57</td>\n",
       "      <td>1</td>\n",
       "      <td>4.0</td>\n",
       "    </tr>\n",
       "  </tbody>\n",
       "</table>\n",
       "</div>"
      ],
      "text/plain": [
       "   brand  name  exterior  trans  engine  moto_type  zipcode  certified  year  \\\n",
       "0     39   481        14     24       9          3        0          0     7   \n",
       "1      4    44         1     20      11          3        0          0     3   \n",
       "2      4    68        14     21       6          3        0          0     3   \n",
       "3     23   534        18     19       9          3        0          1     2   \n",
       "4      3   118        16     21      10          3        0          0     3   \n",
       "\n",
       "    mileage  photos  videos  doors  \n",
       "0  0.078780      39       1    4.0  \n",
       "1  0.029233      44       1    4.0  \n",
       "2  0.015607      50       1    4.0  \n",
       "3  0.015040      26       1    4.0  \n",
       "4  0.031319      57       1    4.0  "
      ]
     },
     "execution_count": 86,
     "metadata": {},
     "output_type": "execute_result"
    }
   ],
   "source": [
    "for i in range(7):\n",
    "    column = X.iloc[:,i:i+1].values\n",
    "    le.fit(column)\n",
    "    X.iloc[:,i:i+1] = le.transform(column) \n",
    "\n",
    "X.head()\n",
    "#turn catagorical into numerical"
   ]
  },
  {
   "cell_type": "code",
   "execution_count": 66,
   "metadata": {
    "collapsed": false
   },
   "outputs": [
    {
     "name": "stdout",
     "output_type": "stream",
     "text": [
      "(164145, 188) (164145,)\n"
     ]
    }
   ],
   "source": [
    "from sklearn.preprocessing import OneHotEncoder\n",
    "enc = OneHotEncoder()\n",
    "\n",
    "OneHotColumns = X[['brand', 'exterior', 'trans', 'engine', 'moto_type', 'zipcode']].values\n",
    "OtherColumns = X[['name', 'certified', 'year', 'mileage', 'photos', 'videos', 'doors']].values\n",
    "enc.fit(OneHotColumns)\n",
    "#enc.n_values_\n",
    "#enc.feature_indices_\n",
    "\n",
    "X = np.concatenate((OtherColumns, enc.transform(OneHotColumns).toarray()),axis=1)\n",
    "print(X.shape,y.shape)"
   ]
  },
  {
   "cell_type": "code",
   "execution_count": 87,
   "metadata": {
    "collapsed": false
   },
   "outputs": [],
   "source": [
    "from sklearn.metrics import mean_squared_error\n",
    "from sklearn.model_selection import train_test_split\n",
    "X_train, X_test, y_train, y_test = train_test_split(X, y, test_size=0.3, random_state=233)\n"
   ]
  },
  {
   "cell_type": "markdown",
   "metadata": {},
   "source": [
    "Linear Models"
   ]
  },
  {
   "cell_type": "code",
   "execution_count": 94,
   "metadata": {
    "collapsed": false
   },
   "outputs": [
    {
     "name": "stdout",
     "output_type": "stream",
     "text": [
      "mse= 87679571.8099\n",
      "[ 29179.9459956   20642.33219037  17360.6466864  ...,  -9924.18565954\n",
      "   3918.56731301  26937.69586108]\n"
     ]
    }
   ],
   "source": [
    "from sklearn import linear_model\n",
    "\n",
    "clf = linear_model.LinearRegression()\n",
    "\n",
    "clf.fit(X_train, y_train)\n",
    "\n",
    "y_pred = clf.predict(X_test)\n",
    "#_pred = y_pred*(price_max-price_min)+price_min\n",
    "\n",
    "print('mse=', mean_squared_error(y_test, y_pred))\n",
    "print(y_pred)"
   ]
  },
  {
   "cell_type": "code",
   "execution_count": 95,
   "metadata": {
    "collapsed": false
   },
   "outputs": [
    {
     "name": "stdout",
     "output_type": "stream",
     "text": [
      "mse= 20746731.949\n",
      "[ 32434.  15888.  14995. ...,   3500.   7290.  28489.]\n"
     ]
    }
   ],
   "source": [
    "# tree\n",
    "from sklearn.tree import DecisionTreeRegressor\n",
    "\n",
    "clf = DecisionTreeRegressor()\n",
    "\n",
    "clf.fit(X_train, y_train)\n",
    "\n",
    "y_pred = clf.predict(X_test)\n",
    "\n",
    "print('mse=', mean_squared_error(y_test, y_pred))\n",
    "print(y_pred)"
   ]
  },
  {
   "cell_type": "code",
   "execution_count": null,
   "metadata": {
    "collapsed": true
   },
   "outputs": [],
   "source": [
    "#svm\n",
    "'''\n",
    "from sklearn.svm import SVR\n",
    "\n",
    "clf = SVR()\n",
    "\n",
    "clf.fit(X_train, y_train)\n",
    "\n",
    "y_pred = clf.predict(X_test)\n",
    "\n",
    "print('mse=', mean_squared_error(y_test, y_pred))\n",
    "print(y_pred*(price_max-price_min)+price_min)\n",
    "'''"
   ]
  },
  {
   "cell_type": "code",
   "execution_count": 100,
   "metadata": {
    "collapsed": false
   },
   "outputs": [
    {
     "name": "stdout",
     "output_type": "stream",
     "text": [
      "mse= 37653078.1507\n",
      "[ 25549.59215286  13006.39424245  17651.94656882 ...,   6287.81718539\n",
      "   6091.66427223  20857.57093114]\n"
     ]
    }
   ],
   "source": [
    "#knn\n",
    "from sklearn.neighbors import KNeighborsRegressor\n",
    "\n",
    "clf = KNeighborsRegressor(weights = 'distance')\n",
    "\n",
    "clf.fit(X_train, y_train)\n",
    "\n",
    "y_pred = clf.predict(X_test)\n",
    "\n",
    "print('mse=', mean_squared_error(y_test, y_pred))\n",
    "print(y_pred)"
   ]
  },
  {
   "cell_type": "code",
   "execution_count": 98,
   "metadata": {
    "collapsed": false
   },
   "outputs": [
    {
     "name": "stdout",
     "output_type": "stream",
     "text": [
      "mse= 76328211.6494\n"
     ]
    },
    {
     "name": "stderr",
     "output_type": "stream",
     "text": [
      "C:\\Users\\10\\Anaconda3\\lib\\site-packages\\sklearn\\neural_network\\multilayer_perceptron.py:563: ConvergenceWarning: Stochastic Optimizer: Maximum iterations reached and the optimization hasn't converged yet.\n",
      "  % (), ConvergenceWarning)\n"
     ]
    }
   ],
   "source": [
    "#mlp\n",
    "from sklearn.neural_network import MLPRegressor\n",
    "\n",
    "clf = MLPRegressor()\n",
    "\n",
    "clf.fit(X_train, y_train)\n",
    "\n",
    "y_pred = clf.predict(X_test)\n",
    "\n",
    "print('mse=', mean_squared_error(y_test, y_pred))"
   ]
  },
  {
   "cell_type": "code",
   "execution_count": 99,
   "metadata": {
    "collapsed": false
   },
   "outputs": [
    {
     "name": "stdout",
     "output_type": "stream",
     "text": [
      "mse= 12442466.2092\n"
     ]
    }
   ],
   "source": [
    "#randomforest\n",
    "from sklearn.ensemble import RandomForestRegressor\n",
    "\n",
    "clf = RandomForestRegressor(random_state = 666)\n",
    "\n",
    "clf.fit(X_train, y_train)\n",
    "\n",
    "y_pred = clf.predict(X_test)\n",
    "\n",
    "print('mse=', mean_squared_error(y_test, y_pred))"
   ]
  },
  {
   "cell_type": "markdown",
   "metadata": {},
   "source": [
    "## Gradient boosting"
   ]
  },
  {
   "cell_type": "code",
   "execution_count": 102,
   "metadata": {
    "collapsed": true
   },
   "outputs": [],
   "source": [
    "from sklearn.utils import shuffle"
   ]
  },
  {
   "cell_type": "code",
   "execution_count": 103,
   "metadata": {
    "collapsed": false
   },
   "outputs": [
    {
     "name": "stdout",
     "output_type": "stream",
     "text": [
      "mse= 33866799.3761\n"
     ]
    }
   ],
   "source": [
    "from sklearn import ensemble\n",
    "params = {'n_estimators': 500, 'max_depth': 4, 'min_samples_split': 2,\n",
    "          'learning_rate': 0.01, 'loss': 'ls'}\n",
    "clf = ensemble.GradientBoostingRegressor(**params)\n",
    "\n",
    "clf.fit(X_train, y_train)\n",
    "\n",
    "y_pred = clf.predict(X_test)\n",
    "\n",
    "print('mse=', mean_squared_error(y_test, y_pred))\n",
    "\n"
   ]
  },
  {
   "cell_type": "code",
   "execution_count": 104,
   "metadata": {
    "collapsed": false
   },
   "outputs": [
    {
     "data": {
      "text/plain": [
       "<matplotlib.text.Text at 0x1aa0060ef28>"
      ]
     },
     "execution_count": 104,
     "metadata": {},
     "output_type": "execute_result"
    },
    {
     "data": {
      "image/png": "[encoded data removed]",
      "text/plain": [
       "<matplotlib.figure.Figure at 0x1aa03d314a8>"
      ]
     },
     "metadata": {},
     "output_type": "display_data"
    }
   ],
   "source": [
    "test_score = np.zeros((params['n_estimators'],), dtype=np.float64)\n",
    "\n",
    "for i, y_pred in enumerate(clf.staged_predict(X_test)):\n",
    "    test_score[i] = clf.loss_(y_test, y_pred)\n",
    "\n",
    "plt.figure(figsize=(12, 6))\n",
    "plt.subplot(1, 2, 1)\n",
    "plt.title('Deviance')\n",
    "plt.plot(np.arange(params['n_estimators']) + 1, clf.train_score_, 'b-',\n",
    "         label='Training Set Deviance')\n",
    "plt.plot(np.arange(params['n_estimators']) + 1, test_score, 'r-',\n",
    "         label='Test Set Deviance')\n",
    "plt.legend(loc='upper right')\n",
    "plt.xlabel('Boosting Iterations')\n",
    "plt.ylabel('Deviance')"
   ]
  },
  {
   "cell_type": "code",
   "execution_count": 109,
   "metadata": {
    "collapsed": false
   },
   "outputs": [
    {
     "data": {
      "image/png": "[encoded data removed]",
      "text/plain": [
       "<matplotlib.figure.Figure at 0x1aa069a4860>"
      ]
     },
     "metadata": {},
     "output_type": "display_data"
    }
   ],
   "source": [
    "feature_importance = clf.feature_importances_\n",
    "# make importances relative to max importance\n",
    "feature_importance = 100.0 * (feature_importance / feature_importance.max())\n",
    "sorted_idx = np.argsort(feature_importance)\n",
    "pos = np.arange(sorted_idx.shape[0]) + .5\n",
    "plt.subplot(1, 2, 2)\n",
    "plt.barh(pos, feature_importance[sorted_idx], align='center')\n",
    "plt.yticks(pos, data.columns.values[sorted_idx])\n",
    "plt.xlabel('Relative Importance')\n",
    "plt.title('Variable Importance')\n",
    "plt.show()"
   ]
  },
  {
   "cell_type": "code",
   "execution_count": null,
   "metadata": {
    "collapsed": true
   },
   "outputs": [],
   "source": []
  }
 ],
 "metadata": {
  "kernelspec": {
   "display_name": "Python 3",
   "language": "python",
   "name": "python3"
  },
  "language_info": {
   "codemirror_mode": {
    "name": "ipython",
    "version": 3
   },
   "file_extension": ".py",
   "mimetype": "text/x-python",
   "name": "python",
   "nbconvert_exporter": "python",
   "pygments_lexer": "ipython3",
   "version": "3.6.0"
  }
 },
 "nbformat": 4,
 "nbformat_minor": 2
}
