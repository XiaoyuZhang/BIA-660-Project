{
 "cells": [
  {
   "cell_type": "code",
   "execution_count": 1,
   "metadata": {
    "collapsed": true
   },
   "outputs": [],
   "source": [
    "import pandas as pd\n",
    "import numpy as np\n",
    "import os"
   ]
  },
  {
   "cell_type": "code",
   "execution_count": 2,
   "metadata": {
    "collapsed": true
   },
   "outputs": [],
   "source": [
    "frames = []\n",
    "for csv in os.listdir('rowdata'):\n",
    "    zipcode = csv[:5]\n",
    "    df = pd.read_csv(os.path.join('rowdata', csv),  header = None, \n",
    "    names = ['name', 'price', 'mileage', 'exterior', 'interior', 'dealer_name', 'trans', 'engine', 'doors', 'photos', \n",
    "             'videos', 'moto_type'], quoting=3, error_bad_lines=False)\n",
    "    df['zipcode'] = zipcode\n",
    "    frames.append(df)\n",
    "result = pd.concat(frames)"
   ]
  },
  {
   "cell_type": "code",
   "execution_count": 3,
   "metadata": {
    "collapsed": true
   },
   "outputs": [],
   "source": [
    "df = result\n",
    "df = df.drop(['interior','dealer_name'], axis = 1)\n",
    "df.dropna(axis = 'index', subset=['price', 'mileage', 'moto_type'], inplace = True)"
   ]
  },
  {
   "cell_type": "code",
   "execution_count": 4,
   "metadata": {
    "collapsed": true
   },
   "outputs": [],
   "source": [
    "df['certified'], df['year'], df['brand'], df['name'] = df.name.str.split(' ', 3).str\n",
    "df['year'] = df['year'].map(lambda x: 2017 - int(x))\n",
    "df = df[df['year'] >= 0]\n",
    "\n",
    "df['photos'] = df.photos.str.split(' ', 1).str[0]\n",
    "df['videos'] = df.videos.str.split(' ', 1).str[0]\n",
    "df[['photos', 'videos']] = df[['photos', 'videos']].fillna(0)\n",
    "\n",
    "df['doors'] = df.doors.str.split(' ', 1).str[0]\n",
    "df['doors'] = df['doors'].map({'Four': 4, 'Two': 2, 'Three': 3, 'Five':5})\n",
    "df['doors'] = df.groupby('name')['doors'].transform('max')\n",
    "\n",
    "df['certified'] = df['certified'].map({'Used': 0, 'Certified': 1})\n",
    "\n",
    "df.dropna(axis = 'index', subset=['exterior', 'trans', 'engine', 'doors'], inplace = True)"
   ]
  },
  {
   "cell_type": "code",
   "execution_count": 5,
   "metadata": {
    "collapsed": false,
    "scrolled": true
   },
   "outputs": [
    {
     "data": {
      "text/plain": [
       "name         0\n",
       "price        0\n",
       "mileage      0\n",
       "exterior     0\n",
       "trans        0\n",
       "engine       0\n",
       "doors        0\n",
       "photos       0\n",
       "videos       0\n",
       "moto_type    0\n",
       "zipcode      0\n",
       "certified    0\n",
       "year         0\n",
       "brand        0\n",
       "dtype: int64"
      ]
     },
     "execution_count": 5,
     "metadata": {},
     "output_type": "execute_result"
    }
   ],
   "source": [
    "df.isnull().sum()"
   ]
  },
  {
   "cell_type": "code",
   "execution_count": 6,
   "metadata": {
    "collapsed": false
   },
   "outputs": [
    {
     "data": {
      "text/plain": [
       "(165587, 14)"
      ]
     },
     "execution_count": 6,
     "metadata": {},
     "output_type": "execute_result"
    }
   ],
   "source": [
    "df.shape"
   ]
  },
  {
   "cell_type": "code",
   "execution_count": 7,
   "metadata": {
    "collapsed": false
   },
   "outputs": [
    {
     "data": {
      "text/html": [
       "<div>\n",
       "<table border=\"1\" class=\"dataframe\">\n",
       "  <thead>\n",
       "    <tr style=\"text-align: right;\">\n",
       "      <th></th>\n",
       "      <th>name</th>\n",
       "      <th>price</th>\n",
       "      <th>mileage</th>\n",
       "      <th>exterior</th>\n",
       "      <th>trans</th>\n",
       "      <th>engine</th>\n",
       "      <th>doors</th>\n",
       "      <th>photos</th>\n",
       "      <th>videos</th>\n",
       "      <th>moto_type</th>\n",
       "      <th>zipcode</th>\n",
       "      <th>certified</th>\n",
       "      <th>year</th>\n",
       "      <th>brand</th>\n",
       "    </tr>\n",
       "  </thead>\n",
       "  <tbody>\n",
       "    <tr>\n",
       "      <th>0</th>\n",
       "      <td>Maxima</td>\n",
       "      <td>11995.0</td>\n",
       "      <td>69406</td>\n",
       "      <td>Mystic Jade Metallic</td>\n",
       "      <td>Continuously Variable Automatic</td>\n",
       "      <td>6 Cylinder</td>\n",
       "      <td>4.0</td>\n",
       "      <td>39</td>\n",
       "      <td>1</td>\n",
       "      <td>sedan</td>\n",
       "      <td>02115</td>\n",
       "      <td>0</td>\n",
       "      <td>7</td>\n",
       "      <td>Nissan</td>\n",
       "    </tr>\n",
       "    <tr>\n",
       "      <th>1</th>\n",
       "      <td>335i xDrive Sedan</td>\n",
       "      <td>29995.0</td>\n",
       "      <td>25755</td>\n",
       "      <td>Jet Black</td>\n",
       "      <td>8 Speed Automatic</td>\n",
       "      <td>6 Cylinder Turbo</td>\n",
       "      <td>4.0</td>\n",
       "      <td>44</td>\n",
       "      <td>1</td>\n",
       "      <td>sedan</td>\n",
       "      <td>02115</td>\n",
       "      <td>0</td>\n",
       "      <td>3</td>\n",
       "      <td>BMW</td>\n",
       "    </tr>\n",
       "    <tr>\n",
       "      <th>2</th>\n",
       "      <td>528i xDrive Sedan</td>\n",
       "      <td>29995.0</td>\n",
       "      <td>13751</td>\n",
       "      <td>Dark Graphite Metallic</td>\n",
       "      <td>8 Speed Shiftable Automatic</td>\n",
       "      <td>4 Cylinder Turbo</td>\n",
       "      <td>4.0</td>\n",
       "      <td>50</td>\n",
       "      <td>1</td>\n",
       "      <td>sedan</td>\n",
       "      <td>02115</td>\n",
       "      <td>0</td>\n",
       "      <td>3</td>\n",
       "      <td>BMW</td>\n",
       "    </tr>\n",
       "    <tr>\n",
       "      <th>3</th>\n",
       "      <td>Q50 Premium</td>\n",
       "      <td>32990.0</td>\n",
       "      <td>13251</td>\n",
       "      <td>Moonlight White</td>\n",
       "      <td>7 Speed Shiftable Automatic</td>\n",
       "      <td>6 Cylinder</td>\n",
       "      <td>4.0</td>\n",
       "      <td>26</td>\n",
       "      <td>1</td>\n",
       "      <td>sedan</td>\n",
       "      <td>02115</td>\n",
       "      <td>1</td>\n",
       "      <td>2</td>\n",
       "      <td>INFINITI</td>\n",
       "    </tr>\n",
       "    <tr>\n",
       "      <th>4</th>\n",
       "      <td>A6 3.0T Prestige quattro</td>\n",
       "      <td>33995.0</td>\n",
       "      <td>27593</td>\n",
       "      <td>Ice Silver Metallic</td>\n",
       "      <td>8 Speed Shiftable Automatic</td>\n",
       "      <td>6 Cylinder Supercharg</td>\n",
       "      <td>4.0</td>\n",
       "      <td>57</td>\n",
       "      <td>1</td>\n",
       "      <td>sedan</td>\n",
       "      <td>02115</td>\n",
       "      <td>0</td>\n",
       "      <td>3</td>\n",
       "      <td>Audi</td>\n",
       "    </tr>\n",
       "  </tbody>\n",
       "</table>\n",
       "</div>"
      ],
      "text/plain": [
       "                       name    price mileage                exterior  \\\n",
       "0                    Maxima  11995.0   69406    Mystic Jade Metallic   \n",
       "1         335i xDrive Sedan  29995.0   25755               Jet Black   \n",
       "2         528i xDrive Sedan  29995.0   13751  Dark Graphite Metallic   \n",
       "3               Q50 Premium  32990.0   13251         Moonlight White   \n",
       "4  A6 3.0T Prestige quattro  33995.0   27593     Ice Silver Metallic   \n",
       "\n",
       "                             trans                 engine  doors photos  \\\n",
       "0  Continuously Variable Automatic             6 Cylinder    4.0     39   \n",
       "1                8 Speed Automatic       6 Cylinder Turbo    4.0     44   \n",
       "2      8 Speed Shiftable Automatic       4 Cylinder Turbo    4.0     50   \n",
       "3      7 Speed Shiftable Automatic             6 Cylinder    4.0     26   \n",
       "4      8 Speed Shiftable Automatic  6 Cylinder Supercharg    4.0     57   \n",
       "\n",
       "  videos moto_type zipcode  certified  year     brand  \n",
       "0      1     sedan   02115          0     7    Nissan  \n",
       "1      1     sedan   02115          0     3       BMW  \n",
       "2      1     sedan   02115          0     3       BMW  \n",
       "3      1     sedan   02115          1     2  INFINITI  \n",
       "4      1     sedan   02115          0     3      Audi  "
      ]
     },
     "execution_count": 7,
     "metadata": {},
     "output_type": "execute_result"
    }
   ],
   "source": [
    "df.head()"
   ]
  },
  {
   "cell_type": "code",
   "execution_count": 8,
   "metadata": {
    "collapsed": false,
    "scrolled": false
   },
   "outputs": [
    {
     "data": {
      "text/plain": [
       "(26,)"
      ]
     },
     "execution_count": 8,
     "metadata": {},
     "output_type": "execute_result"
    }
   ],
   "source": [
    "df.trans.value_counts().shape"
   ]
  },
  {
   "cell_type": "code",
   "execution_count": 9,
   "metadata": {
    "collapsed": false
   },
   "outputs": [
    {
     "data": {
      "text/plain": [
       "(20,)"
      ]
     },
     "execution_count": 9,
     "metadata": {},
     "output_type": "execute_result"
    }
   ],
   "source": [
    "engine_type = df.engine.value_counts()[:19].index\n",
    "df['engine'] = df['engine'].map(lambda x: x if x in engine_type else 'Others')\n",
    "df.engine.value_counts().shape"
   ]
  },
  {
   "cell_type": "code",
   "execution_count": 10,
   "metadata": {
    "collapsed": false
   },
   "outputs": [
    {
     "data": {
      "text/plain": [
       "(20,)"
      ]
     },
     "execution_count": 10,
     "metadata": {},
     "output_type": "execute_result"
    }
   ],
   "source": [
    "def find_color(x):\n",
    "    for color in color_set:\n",
    "        if color in x:\n",
    "            return color\n",
    "    return 'Others'\n",
    "\n",
    "color_set = [_ for _ in df.exterior.value_counts().index if ' ' not in _][:19]\n",
    "df['exterior'] = df['exterior'].map(find_color)\n",
    "df.exterior.value_counts().shape"
   ]
  },
  {
   "cell_type": "code",
   "execution_count": 11,
   "metadata": {
    "collapsed": false
   },
   "outputs": [
    {
     "data": {
      "text/plain": [
       "(808,)"
      ]
     },
     "execution_count": 11,
     "metadata": {},
     "output_type": "execute_result"
    }
   ],
   "source": [
    "df['name'] = df['name'].map(lambda x: x.split(' ', 1)[0])\n",
    "df.name.value_counts().shape"
   ]
  },
  {
   "cell_type": "code",
   "execution_count": 12,
   "metadata": {
    "collapsed": false
   },
   "outputs": [
    {
     "data": {
      "text/html": [
       "<div>\n",
       "<table border=\"1\" class=\"dataframe\">\n",
       "  <thead>\n",
       "    <tr style=\"text-align: right;\">\n",
       "      <th></th>\n",
       "      <th>year</th>\n",
       "      <th>brand</th>\n",
       "      <th>name</th>\n",
       "      <th>exterior</th>\n",
       "      <th>trans</th>\n",
       "      <th>engine</th>\n",
       "      <th>moto_type</th>\n",
       "      <th>zipcode</th>\n",
       "      <th>certified</th>\n",
       "      <th>mileage</th>\n",
       "      <th>photos</th>\n",
       "      <th>videos</th>\n",
       "      <th>doors</th>\n",
       "      <th>price</th>\n",
       "    </tr>\n",
       "  </thead>\n",
       "  <tbody>\n",
       "    <tr>\n",
       "      <th>0</th>\n",
       "      <td>7</td>\n",
       "      <td>Nissan</td>\n",
       "      <td>Maxima</td>\n",
       "      <td>Others</td>\n",
       "      <td>Continuously Variable Automatic</td>\n",
       "      <td>6 Cylinder</td>\n",
       "      <td>sedan</td>\n",
       "      <td>02115</td>\n",
       "      <td>0</td>\n",
       "      <td>69406</td>\n",
       "      <td>39</td>\n",
       "      <td>1</td>\n",
       "      <td>4.0</td>\n",
       "      <td>11995.0</td>\n",
       "    </tr>\n",
       "    <tr>\n",
       "      <th>1</th>\n",
       "      <td>3</td>\n",
       "      <td>BMW</td>\n",
       "      <td>335i</td>\n",
       "      <td>Black</td>\n",
       "      <td>8 Speed Automatic</td>\n",
       "      <td>6 Cylinder Turbo</td>\n",
       "      <td>sedan</td>\n",
       "      <td>02115</td>\n",
       "      <td>0</td>\n",
       "      <td>25755</td>\n",
       "      <td>44</td>\n",
       "      <td>1</td>\n",
       "      <td>4.0</td>\n",
       "      <td>29995.0</td>\n",
       "    </tr>\n",
       "    <tr>\n",
       "      <th>2</th>\n",
       "      <td>3</td>\n",
       "      <td>BMW</td>\n",
       "      <td>528i</td>\n",
       "      <td>Others</td>\n",
       "      <td>8 Speed Shiftable Automatic</td>\n",
       "      <td>4 Cylinder Turbo</td>\n",
       "      <td>sedan</td>\n",
       "      <td>02115</td>\n",
       "      <td>0</td>\n",
       "      <td>13751</td>\n",
       "      <td>50</td>\n",
       "      <td>1</td>\n",
       "      <td>4.0</td>\n",
       "      <td>29995.0</td>\n",
       "    </tr>\n",
       "    <tr>\n",
       "      <th>3</th>\n",
       "      <td>2</td>\n",
       "      <td>INFINITI</td>\n",
       "      <td>Q50</td>\n",
       "      <td>White</td>\n",
       "      <td>7 Speed Shiftable Automatic</td>\n",
       "      <td>6 Cylinder</td>\n",
       "      <td>sedan</td>\n",
       "      <td>02115</td>\n",
       "      <td>1</td>\n",
       "      <td>13251</td>\n",
       "      <td>26</td>\n",
       "      <td>1</td>\n",
       "      <td>4.0</td>\n",
       "      <td>32990.0</td>\n",
       "    </tr>\n",
       "    <tr>\n",
       "      <th>4</th>\n",
       "      <td>3</td>\n",
       "      <td>Audi</td>\n",
       "      <td>A6</td>\n",
       "      <td>Silver</td>\n",
       "      <td>8 Speed Shiftable Automatic</td>\n",
       "      <td>6 Cylinder Supercharg</td>\n",
       "      <td>sedan</td>\n",
       "      <td>02115</td>\n",
       "      <td>0</td>\n",
       "      <td>27593</td>\n",
       "      <td>57</td>\n",
       "      <td>1</td>\n",
       "      <td>4.0</td>\n",
       "      <td>33995.0</td>\n",
       "    </tr>\n",
       "  </tbody>\n",
       "</table>\n",
       "</div>"
      ],
      "text/plain": [
       "   year     brand    name exterior                            trans  \\\n",
       "0     7    Nissan  Maxima   Others  Continuously Variable Automatic   \n",
       "1     3       BMW    335i    Black                8 Speed Automatic   \n",
       "2     3       BMW    528i   Others      8 Speed Shiftable Automatic   \n",
       "3     2  INFINITI     Q50    White      7 Speed Shiftable Automatic   \n",
       "4     3      Audi      A6   Silver      8 Speed Shiftable Automatic   \n",
       "\n",
       "                  engine moto_type zipcode  certified mileage photos videos  \\\n",
       "0             6 Cylinder     sedan   02115          0   69406     39      1   \n",
       "1       6 Cylinder Turbo     sedan   02115          0   25755     44      1   \n",
       "2       4 Cylinder Turbo     sedan   02115          0   13751     50      1   \n",
       "3             6 Cylinder     sedan   02115          1   13251     26      1   \n",
       "4  6 Cylinder Supercharg     sedan   02115          0   27593     57      1   \n",
       "\n",
       "   doors    price  \n",
       "0    4.0  11995.0  \n",
       "1    4.0  29995.0  \n",
       "2    4.0  29995.0  \n",
       "3    4.0  32990.0  \n",
       "4    4.0  33995.0  "
      ]
     },
     "execution_count": 12,
     "metadata": {},
     "output_type": "execute_result"
    }
   ],
   "source": [
    "df = df[['year','brand', 'name','exterior', 'trans','engine', 'moto_type', \n",
    "         'zipcode','certified', 'mileage', 'photos','videos','doors','price']]\n",
    "df.head()"
   ]
  },
  {
   "cell_type": "code",
   "execution_count": 13,
   "metadata": {
    "collapsed": true
   },
   "outputs": [],
   "source": [
    "df.to_csv('660_dataset.csv')"
   ]
  },
  {
   "cell_type": "code",
   "execution_count": null,
   "metadata": {
    "collapsed": true
   },
   "outputs": [],
   "source": []
  }
 ],
 "metadata": {
  "kernelspec": {
   "display_name": "Python 3",
   "language": "python",
   "name": "python3"
  },
  "language_info": {
   "codemirror_mode": {
    "name": "ipython",
    "version": 3
   },
   "file_extension": ".py",
   "mimetype": "text/x-python",
   "name": "python",
   "nbconvert_exporter": "python",
   "pygments_lexer": "ipython3",
   "version": "3.6.0"
  }
 },
 "nbformat": 4,
 "nbformat_minor": 2
}
